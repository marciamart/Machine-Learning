{
 "cells": [
  {
   "cell_type": "markdown",
   "metadata": {},
   "source": [
    "1. Escreva uma função que receba uma lista de números e retorne outra lista com os números ímpares."
   ]
  },
  {
   "cell_type": "code",
   "execution_count": 1,
   "metadata": {},
   "outputs": [
    {
     "name": "stdout",
     "output_type": "stream",
     "text": [
      "[3, 9, 13, 17, 293]\n"
     ]
    }
   ],
   "source": [
    "def NUM_IMPAR(list:list):\n",
    "    list_impar = []\n",
    "    for number in list:\n",
    "        if number % 2 != 0:\n",
    "            list_impar.append(number)\n",
    "    return list_impar\n",
    "\n",
    "lista = [2, 3, 4, 8, 9, 13, 17, 293]\n",
    "print(NUM_IMPAR(lista))"
   ]
  },
  {
   "cell_type": "markdown",
   "metadata": {},
   "source": [
    "2. Escreva uma função que receba uma lista de números e retorne outra lista com os números primos presentes."
   ]
  },
  {
   "cell_type": "code",
   "execution_count": 4,
   "metadata": {},
   "outputs": [
    {
     "name": "stdout",
     "output_type": "stream",
     "text": [
      "[2, 3, 13, 17, 293]\n"
     ]
    }
   ],
   "source": [
    "def NUM_PRIMO(list:list):\n",
    "    list_primo = []\n",
    "    for number in list:\n",
    "        for i in range(2, number+1):\n",
    "            if number % i == 0 and i != number:\n",
    "                break\n",
    "            elif i == number:\n",
    "                list_primo.append(number)\n",
    "    return list_primo\n",
    "\n",
    "lista = [0,1, 2, 3, 4, 8, 9, 13, 17, 293]\n",
    "print(NUM_PRIMO(lista))"
   ]
  },
  {
   "cell_type": "markdown",
   "metadata": {},
   "source": [
    "3. Escreva uma função que receba duas listas e retorne outra lista com os elementos que estão presentes em apenas uma das listas."
   ]
  },
  {
   "cell_type": "code",
   "execution_count": 12,
   "metadata": {},
   "outputs": [
    {
     "name": "stdout",
     "output_type": "stream",
     "text": [
      "[2, 17, 1, 18]\n"
     ]
    }
   ],
   "source": [
    "def LIST_DIFERENCA(list_a:list, list_b:list):\n",
    "    resp = []\n",
    "    for i in list_a:\n",
    "        if i not in list_b:\n",
    "            resp.append(i)\n",
    "    for i in list_b:\n",
    "        if i not in list_a:\n",
    "            resp.append(i)   \n",
    "    return resp\n",
    "\n",
    "lista = [2, 3, 4, 8, 9, 13, 17, 293]\n",
    "lista2 = [1, 3, 4, 8, 9, 13, 18, 293]\n",
    "print(LIST_DIFERENCA(lista, lista2))"
   ]
  },
  {
   "cell_type": "markdown",
   "metadata": {},
   "source": [
    "4. Dada uma lista de números inteiros, escreva uma função para encontrar o segundo maior valor na lista."
   ]
  },
  {
   "cell_type": "code",
   "execution_count": 16,
   "metadata": {},
   "outputs": [
    {
     "name": "stdout",
     "output_type": "stream",
     "text": [
      "126\n"
     ]
    }
   ],
   "source": [
    "def SEG_MAIOR(list:list):\n",
    "    seg_maior = 0\n",
    "    maior = 0\n",
    "    for number in list:\n",
    "        if number > maior:\n",
    "            seg_maior = maior\n",
    "            maior = number\n",
    "    return seg_maior\n",
    "\n",
    "lista = [2, 3, 4, 8, 9, 13, 17,126, 293]\n",
    "print(SEG_MAIOR(lista))"
   ]
  },
  {
   "cell_type": "markdown",
   "metadata": {},
   "source": [
    "5. Crie uma função que receba uma lista de tuplas, cada uma contendo o\n",
    "nome e a idade de uma pessoa, e retorne a lista ordenada pelo nome das\n",
    "pessoas em ordem alfabética."
   ]
  },
  {
   "cell_type": "code",
   "execution_count": 19,
   "metadata": {},
   "outputs": [
    {
     "name": "stdout",
     "output_type": "stream",
     "text": [
      "[('Andressa Lima Colares', 24), ('Camilla Soares Sousa', 30), ('Giovanna Caetano', 20), ('Julia Estephani Ribeiro Baroncello', 22), ('Lucas Emanuel Rodrigues de Matos', 26), ('Márcia Martins Leite de Sousa', 19), ('Samuel de Almeida Caldeira', 34), ('Talita Dias da Silva', 23)]\n"
     ]
    }
   ],
   "source": [
    "lista = [\n",
    "    ('Talita Dias da Silva', 23),\n",
    "    ('Márcia Martins Leite de Sousa',19),\n",
    "    ('Giovanna Caetano', 20),\n",
    "    ('Camilla Soares Sousa', 30),\n",
    "    ('Lucas Emanuel Rodrigues de Matos', 26),\n",
    "    ('Andressa Lima Colares', 24),\n",
    "    ('Samuel de Almeida Caldeira', 34),\n",
    "    ('Julia Estephani Ribeiro Baroncello', 22)\n",
    "]\n",
    "\n",
    "def ORDENAR(lista:list):\n",
    "    return sorted(lista)\n",
    "\n",
    "print(ORDENAR(lista))"
   ]
  }
 ],
 "metadata": {
  "kernelspec": {
   "display_name": "Python 3",
   "language": "python",
   "name": "python3"
  },
  "language_info": {
   "codemirror_mode": {
    "name": "ipython",
    "version": 3
   },
   "file_extension": ".py",
   "mimetype": "text/x-python",
   "name": "python",
   "nbconvert_exporter": "python",
   "pygments_lexer": "ipython3",
   "version": "3.12.1"
  }
 },
 "nbformat": 4,
 "nbformat_minor": 2
}
