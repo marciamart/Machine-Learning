{
 "cells": [
  {
   "cell_type": "markdown",
   "metadata": {},
   "source": [
    "1. Escreva uma função que receba uma lista de números e retorne outra lista com os números ímpares."
   ]
  },
  {
   "cell_type": "code",
   "execution_count": null,
   "metadata": {},
   "outputs": [],
   "source": [
    "def NUM_IMPAR(list:list):\n",
    "    list_impar = []\n",
    "    for number in list:\n",
    "        if number % 2 != 0:\n",
    "            list_impar.append(number)\n",
    "    return list_impar\n",
    "\n",
    "lista = [2, 3, 4, 8, 9, 13, 17, 293]\n",
    "print(NUM_IMPAR(lista))"
   ]
  },
  {
   "cell_type": "markdown",
   "metadata": {},
   "source": [
    "2. Escreva uma função que receba uma lista de números e retorne outra lista com os números primos presentes."
   ]
  },
  {
   "cell_type": "code",
   "execution_count": null,
   "metadata": {},
   "outputs": [],
   "source": [
    "def NUM_PRIMO(list:list):\n",
    "    list_primo = []\n",
    "    for number in list:\n",
    "        for i in range(2, number+1):\n",
    "            if number % i == 0 and i != number:\n",
    "                break\n",
    "            elif i == number:\n",
    "                list_primo.append(number)\n",
    "    return list_primo\n",
    "\n",
    "lista = [0,1, 2, 3, 4, 8, 9, 13, 17, 293]\n",
    "print(NUM_PRIMO(lista))"
   ]
  },
  {
   "cell_type": "markdown",
   "metadata": {},
   "source": [
    "3. Escreva uma função que receba duas listas e retorne outra lista com os elementos que estão presentes em apenas uma das listas."
   ]
  },
  {
   "cell_type": "code",
   "execution_count": null,
   "metadata": {},
   "outputs": [],
   "source": [
    "def LIST_DIFERENCA(list_a:list, list_b:list):\n",
    "    resp = []\n",
    "    for i in list_a:\n",
    "        if i not in list_b:\n",
    "            resp.append(i)\n",
    "    for i in list_b:\n",
    "        if i not in list_a:\n",
    "            resp.append(i)   \n",
    "    return resp\n",
    "\n",
    "lista = [2, 3, 4, 8, 9, 13, 17, 293]\n",
    "lista2 = [1, 3, 4, 8, 9, 13, 18, 293]\n",
    "print(LIST_DIFERENCA(lista, lista2))"
   ]
  },
  {
   "cell_type": "markdown",
   "metadata": {},
   "source": [
    "4. Dada uma lista de números inteiros, escreva uma função para encontrar o segundo maior valor na lista."
   ]
  },
  {
   "cell_type": "code",
   "execution_count": null,
   "metadata": {},
   "outputs": [],
   "source": [
    "def SEG_MAIOR(list:list):\n",
    "    seg_maior = 0\n",
    "    maior = 0\n",
    "    for number in list:\n",
    "        if number > maior:\n",
    "            seg_maior = maior\n",
    "            maior = number\n",
    "    return seg_maior\n",
    "\n",
    "lista = [2, 3, 4, 8, 9, 13, 17,126, 293]\n",
    "print(SEG_MAIOR(lista))"
   ]
  },
  {
   "cell_type": "markdown",
   "metadata": {},
   "source": [
    "5. Crie uma função que receba uma lista de tuplas, cada uma contendo o\n",
    "nome e a idade de uma pessoa, e retorne a lista ordenada pelo nome das\n",
    "pessoas em ordem alfabética."
   ]
  },
  {
   "cell_type": "code",
   "execution_count": null,
   "metadata": {},
   "outputs": [],
   "source": [
    "lista = [\n",
    "    ('Talita Dias da Silva', 23),\n",
    "    ('Márcia Martins Leite de Sousa',19),\n",
    "    ('Giovanna Caetano', 20),\n",
    "    ('Camilla Soares Sousa', 30),\n",
    "    ('Lucas Emanuel Rodrigues de Matos', 26),\n",
    "    ('Andressa Lima Colares', 24),\n",
    "    ('Samuel de Almeida Caldeira', 34),\n",
    "    ('Julia Estephani Ribeiro Baroncello', 22)\n",
    "]\n",
    "\n",
    "def ORDENAR(lista:list):\n",
    "    return sorted(lista)\n",
    "\n",
    "print(ORDENAR(lista))"
   ]
  },
  {
   "cell_type": "markdown",
   "metadata": {},
   "source": [
    "6. Observe os espaços sublinhados e complete o código."
   ]
  },
  {
   "cell_type": "code",
   "execution_count": null,
   "metadata": {},
   "outputs": [],
   "source": [
    "import matplotlib.pyplot as plt\n",
    "import numpy as np\n",
    "fig, axs = plt.subplots(ncols=2, nrows=2, figsize=(5.5, 3.5), layout=\"constrained\")\n",
    "for row in range(2):\n",
    "    for col in range(2):\n",
    "        axs[row, col].annotate(f'axs[{row}, {col}]', (0.5, 0.5), transform=axs[row, col].transAxes,\n",
    "        ha='center', va='center', fontsize=18, color='darkgrey')\n",
    "fig.suptitle('plt.subplots()')"
   ]
  },
  {
   "cell_type": "markdown",
   "metadata": {},
   "source": [
    "7. Observe os espaços sublinhados e complete o código."
   ]
  },
  {
   "cell_type": "code",
   "execution_count": null,
   "metadata": {},
   "outputs": [],
   "source": [
    "import numpy as np\n",
    "import matplotlib as mpl\n",
    "import matplotlib.pyplot as plt\n",
    "x = np.linspace(-2 * np.pi, 2 * np.pi, 100)\n",
    "y = np.sinh(x)\n",
    "fig, ax = plt.subplots()\n",
    "ax.plot(x, y)"
   ]
  },
  {
   "cell_type": "markdown",
   "metadata": {},
   "source": [
    "8. Utilizando pandas, como realizar a leitura de um arquivo CSV em um DataFrame e exibir as primeiras linhas?"
   ]
  },
  {
   "cell_type": "code",
   "execution_count": null,
   "metadata": {},
   "outputs": [],
   "source": [
    "import pandas as pd\n",
    "\n",
    "data = pd.read_csv(\"diretório/até/arquivo.csv\")\n",
    "data.head()"
   ]
  },
  {
   "cell_type": "markdown",
   "metadata": {},
   "source": [
    "9. Utilizando pandas, como selecionar uma coluna específica e filtrar linhas em um “DataFrame” com base em uma condição?"
   ]
  },
  {
   "cell_type": "code",
   "execution_count": null,
   "metadata": {},
   "outputs": [],
   "source": [
    "#continuando da questão acima para exemplificar\n",
    "coluna = data['nome da coluna'] #aqui seleciona a coluna que esta escrita entre ['']\n",
    "coluna.head() #para visualizar a seleção"
   ]
  },
  {
   "cell_type": "code",
   "execution_count": null,
   "metadata": {},
   "outputs": [],
   "source": [
    "#para filtrar linhas, basta seguir a seguinte sintaxe:\n",
    "# <chamada ao data><referencia a coluna><condição>\n",
    "# exemplo:\n",
    "\n",
    "data['nome da coluna'] > 20"
   ]
  },
  {
   "cell_type": "markdown",
   "metadata": {},
   "source": [
    "10.Utilizando pandas, como lidar com valores ausentes (NaN) em um DataFrame?"
   ]
  },
  {
   "cell_type": "code",
   "execution_count": null,
   "metadata": {},
   "outputs": [],
   "source": [
    "# primeiro você identifica eles\n",
    "valores_ausentes = data.isna() #em todo o dataframe\n",
    "valores_ausentes_coluna = data['nome da coluna'].isna() #de uma coluna especifica\n",
    "\n",
    "#assim você pode trata-los -  ou substituindo por um valor escolhido:\n",
    "data.fillna(valor, inplace=True) # em todo o dataframe\n",
    "data['nome da coluna'].fillna(valor, inplace=True)\n",
    "\n",
    "#ou removendo as linhas com valores ausentes\n",
    "data.dropna(inplace=True) # em qualquuer coluna do dataframe\n",
    "data.dropna(subset=['nome da coluna', 'outra coluna', '...'],inplace=True) #removendo linhas de valores ausentes em colunas especificas"
   ]
  }
 ],
 "metadata": {
  "kernelspec": {
   "display_name": "Python 3",
   "language": "python",
   "name": "python3"
  },
  "language_info": {
   "codemirror_mode": {
    "name": "ipython",
    "version": 3
   },
   "file_extension": ".py",
   "mimetype": "text/x-python",
   "name": "python",
   "nbconvert_exporter": "python",
   "pygments_lexer": "ipython3",
   "version": "3.12.1"
  }
 },
 "nbformat": 4,
 "nbformat_minor": 2
}
